{
 "cells": [
  {
   "cell_type": "code",
   "execution_count": 1,
   "id": "1806ba38-4153-4ab1-835c-a18b38a3302a",
   "metadata": {},
   "outputs": [],
   "source": [
    "import ipywidgets as widgets\n",
    "import numpy as np\n",
    "import matplotlib.pyplot as plt"
   ]
  },
  {
   "cell_type": "code",
   "execution_count": 2,
   "id": "03a04dfc-f9e4-4f9d-ae4f-de45abdb578f",
   "metadata": {},
   "outputs": [],
   "source": [
    "x = np.random.uniform(0,5, size = 100)\n",
    "ep = np.random.normal(size = 100)\n",
    "\n",
    "y = 2*x + ep"
   ]
  },
  {
   "cell_type": "code",
   "execution_count": 4,
   "id": "cdd33495-5ced-4e10-a532-cfce7091c5ef",
   "metadata": {},
   "outputs": [
    {
     "data": {
      "text/plain": [
       "<matplotlib.collections.PathCollection at 0x1306dacc850>"
      ]
     },
     "execution_count": 4,
     "metadata": {},
     "output_type": "execute_result"
    },
    {
     "data": {
      "image/png": "[encoded data removed]",
      "text/plain": [
       "<Figure size 432x288 with 1 Axes>"
      ]
     },
     "metadata": {
      "needs_background": "light"
     },
     "output_type": "display_data"
    }
   ],
   "source": [
    "plt.scatter(x,y)"
   ]
  },
  {
   "cell_type": "code",
   "execution_count": 12,
   "id": "ab5a0b24-a644-40cd-8d1e-fbfe055733d4",
   "metadata": {},
   "outputs": [],
   "source": [
    "x_values = np.linspace(0,5,100)"
   ]
  },
  {
   "cell_type": "markdown",
   "id": "4a19c712-8d4c-42fd-b999-84b65ec7cd4e",
   "metadata": {
    "tags": []
   },
   "source": [
    "## Slider"
   ]
  },
  {
   "cell_type": "code",
   "execution_count": 14,
   "id": "33da1aff-850d-4d53-83a5-14bb94305cda",
   "metadata": {},
   "outputs": [
    {
     "data": {
      "image/png": "[encoded data removed]",
      "text/plain": [
       "<Figure size 432x288 with 1 Axes>"
      ]
     },
     "metadata": {
      "needs_background": "light"
     },
     "output_type": "display_data"
    }
   ],
   "source": [
    "def slider_line(m = 1):\n",
    "    plt.scatter(x,y)\n",
    "    plt.plot(x_values,m*x_values, lw = 1, color = 'black')\n",
    "    plt.ylim(-1,12)\n",
    "    \n",
    "slider_line()"
   ]
  },
  {
   "cell_type": "code",
   "execution_count": 15,
   "id": "7b4f6556-d62b-45a9-aa06-a51499287446",
   "metadata": {},
   "outputs": [
    {
     "data": {
      "application/vnd.jupyter.widget-view+json": {
       "model_id": "bddf2d9a63d04166a34960889859a4f8",
       "version_major": 2,
       "version_minor": 0
      },
      "text/plain": [
       "interactive(children=(FloatSlider(value=1.0, description='m', max=5.0, min=0.2, step=0.2), Output()), _dom_cla…"
      ]
     },
     "metadata": {},
     "output_type": "display_data"
    },
    {
     "data": {
      "text/plain": [
       "<function __main__.slider_line(m=1)>"
      ]
     },
     "execution_count": 15,
     "metadata": {},
     "output_type": "execute_result"
    }
   ],
   "source": [
    "widgets.interact(slider_line,  m = (0.2, 5, 0.2))"
   ]
  },
  {
   "cell_type": "code",
   "execution_count": 16,
   "id": "4b219bb2-5df8-4433-9263-381a173ae14b",
   "metadata": {},
   "outputs": [
    {
     "data": {
      "application/vnd.jupyter.widget-view+json": {
       "model_id": "39a9900717a8417fbfda8786c65fa780",
       "version_major": 2,
       "version_minor": 0
      },
      "text/plain": [
       "interactive(children=(Dropdown(description='m', index=1, options=(0, 1, 2, 3, 4), value=1), Output()), _dom_cl…"
      ]
     },
     "metadata": {},
     "output_type": "display_data"
    }
   ],
   "source": [
    "widgets.interact(slider_line,  m = [0,1,2,3,4]);"
   ]
  },
  {
   "cell_type": "code",
   "execution_count": null,
   "id": "7d2a75ac-aac7-43cd-a39e-46b9e6bfba51",
   "metadata": {},
   "outputs": [],
   "source": []
  }
 ],
 "metadata": {
  "kernelspec": {
   "display_name": "Python 3",
   "language": "python",
   "name": "python3"
  },
  "language_info": {
   "codemirror_mode": {
    "name": "ipython",
    "version": 3
   },
   "file_extension": ".py",
   "mimetype": "text/x-python",
   "name": "python",
   "nbconvert_exporter": "python",
   "pygments_lexer": "ipython3",
   "version": "3.9.1"
  }
 },
 "nbformat": 4,
 "nbformat_minor": 5
}
